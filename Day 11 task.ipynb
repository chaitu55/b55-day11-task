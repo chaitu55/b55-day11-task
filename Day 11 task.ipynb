{
 "cells": [
  {
   "cell_type": "code",
   "execution_count": 1,
   "id": "41da3ae3",
   "metadata": {},
   "outputs": [],
   "source": [
    "# user input"
   ]
  },
  {
   "cell_type": "code",
   "execution_count": 2,
   "id": "0c901e72",
   "metadata": {},
   "outputs": [
    {
     "name": "stdout",
     "output_type": "stream",
     "text": [
      "Tell me something, and I will repeat it back for youHello! How are you?\n"
     ]
    }
   ],
   "source": [
    "message=input(\"Tell me something, and I will repeat it back for you\")"
   ]
  },
  {
   "cell_type": "code",
   "execution_count": 3,
   "id": "06277593",
   "metadata": {},
   "outputs": [
    {
     "name": "stdout",
     "output_type": "stream",
     "text": [
      "Tell me something, and I will repeat it back for you I'am good.\n"
     ]
    }
   ],
   "source": [
    "message=input(\"Tell me something, and I will repeat it back for you\")"
   ]
  },
  {
   "cell_type": "markdown",
   "id": "517e944d",
   "metadata": {},
   "source": []
  },
  {
   "cell_type": "code",
   "execution_count": 4,
   "id": "4e36fada",
   "metadata": {},
   "outputs": [
    {
     "name": "stdout",
     "output_type": "stream",
     "text": [
      "Please enter your nameChaitanya\n"
     ]
    }
   ],
   "source": [
    "name=input(\"Please enter your name\")"
   ]
  },
  {
   "cell_type": "code",
   "execution_count": 5,
   "id": "6021a566",
   "metadata": {},
   "outputs": [
    {
     "name": "stdout",
     "output_type": "stream",
     "text": [
      "\n",
      " hello, Chaitanya\n"
     ]
    }
   ],
   "source": [
    "print(f\"\\n hello, {name}\")\n",
    "    "
   ]
  },
  {
   "cell_type": "code",
   "execution_count": 6,
   "id": "1eba7ac5",
   "metadata": {},
   "outputs": [],
   "source": [
    "prompt=\"If you tell us who you are, we can personalize msg for you\""
   ]
  },
  {
   "cell_type": "code",
   "execution_count": 7,
   "id": "a1c36b50",
   "metadata": {},
   "outputs": [],
   "source": [
    "prompt+=\"\\n What is your first name?\""
   ]
  },
  {
   "cell_type": "code",
   "execution_count": 8,
   "id": "e689f3b2",
   "metadata": {},
   "outputs": [
    {
     "name": "stdout",
     "output_type": "stream",
     "text": [
      "If you tell us who you are, we can personalize msg for you\n",
      " What is your first name?Adhvik\n"
     ]
    }
   ],
   "source": [
    "name=input(prompt)"
   ]
  },
  {
   "cell_type": "code",
   "execution_count": 9,
   "id": "55752c4d",
   "metadata": {},
   "outputs": [
    {
     "name": "stdout",
     "output_type": "stream",
     "text": [
      "\n",
      " good evening, Adhvik!\n"
     ]
    }
   ],
   "source": [
    "print(f\"\\n good evening, {name}!\")"
   ]
  },
  {
   "cell_type": "code",
   "execution_count": 10,
   "id": "878ee44c",
   "metadata": {},
   "outputs": [],
   "source": [
    "# type casting of data types"
   ]
  },
  {
   "cell_type": "code",
   "execution_count": 11,
   "id": "1ea949fe",
   "metadata": {},
   "outputs": [
    {
     "name": "stdout",
     "output_type": "stream",
     "text": [
      "how old are you?27\n"
     ]
    }
   ],
   "source": [
    "age=input(\"how old are you?\")"
   ]
  },
  {
   "cell_type": "code",
   "execution_count": 12,
   "id": "81d5cbae",
   "metadata": {},
   "outputs": [],
   "source": [
    "age=int(age)"
   ]
  },
  {
   "cell_type": "code",
   "execution_count": 13,
   "id": "9c1072dd",
   "metadata": {},
   "outputs": [
    {
     "data": {
      "text/plain": [
       "True"
      ]
     },
     "execution_count": 13,
     "metadata": {},
     "output_type": "execute_result"
    }
   ],
   "source": [
    "age>=18"
   ]
  },
  {
   "cell_type": "code",
   "execution_count": 14,
   "id": "597cc5c4",
   "metadata": {},
   "outputs": [],
   "source": [
    "# building voting application validating upon age"
   ]
  },
  {
   "cell_type": "code",
   "execution_count": 15,
   "id": "c00f2078",
   "metadata": {},
   "outputs": [
    {
     "name": "stdout",
     "output_type": "stream",
     "text": [
      "how old are you?15\n"
     ]
    }
   ],
   "source": [
    "age=input(\"how old are you?\")"
   ]
  },
  {
   "cell_type": "code",
   "execution_count": 16,
   "id": "b529588b",
   "metadata": {},
   "outputs": [],
   "source": [
    "age=int(age)"
   ]
  },
  {
   "cell_type": "code",
   "execution_count": 20,
   "id": "173df4b0",
   "metadata": {},
   "outputs": [
    {
     "name": "stdout",
     "output_type": "stream",
     "text": [
      "You are not eligible to vote, try next year!\n"
     ]
    }
   ],
   "source": [
    "if age>=18:\n",
    "    print('You are eligible to vote')\n",
    "else:\n",
    "    print('You are not eligible to vote, try next year!')"
   ]
  },
  {
   "cell_type": "code",
   "execution_count": 18,
   "id": "3b232ebd",
   "metadata": {},
   "outputs": [
    {
     "ename": "SyntaxError",
     "evalue": "invalid syntax (Temp/ipykernel_16416/3541227465.py, line 1)",
     "output_type": "error",
     "traceback": [
      "\u001b[1;36m  File \u001b[1;32m\"C:\\Users\\DELL\\AppData\\Local\\Temp/ipykernel_16416/3541227465.py\"\u001b[1;36m, line \u001b[1;32m1\u001b[0m\n\u001b[1;33m    else:\u001b[0m\n\u001b[1;37m    ^\u001b[0m\n\u001b[1;31mSyntaxError\u001b[0m\u001b[1;31m:\u001b[0m invalid syntax\n"
     ]
    }
   ],
   "source": []
  },
  {
   "cell_type": "code",
   "execution_count": 24,
   "id": "c41169c4",
   "metadata": {},
   "outputs": [
    {
     "name": "stdout",
     "output_type": "stream",
     "text": [
      "how old are you?21\n"
     ]
    }
   ],
   "source": [
    "age=input(\"how old are you?\")"
   ]
  },
  {
   "cell_type": "code",
   "execution_count": 25,
   "id": "aef6f74d",
   "metadata": {},
   "outputs": [
    {
     "name": "stdout",
     "output_type": "stream",
     "text": [
      "You are eligible to vote\n"
     ]
    }
   ],
   "source": [
    "age=int(age)\n",
    "if age>=18:\n",
    "    print('You are eligible to vote')\n",
    "else:\n",
    "    print('You are not eligible to vote, try next year!')\n",
    "    \n",
    "\n"
   ]
  },
  {
   "cell_type": "code",
   "execution_count": 26,
   "id": "1103b6fa",
   "metadata": {},
   "outputs": [],
   "source": [
    " # modulo operator"
   ]
  },
  {
   "cell_type": "code",
   "execution_count": 28,
   "id": "e327144e",
   "metadata": {},
   "outputs": [
    {
     "name": "stdout",
     "output_type": "stream",
     "text": [
      "enter a number, and I will tell you if its even or odd:7\n"
     ]
    }
   ],
   "source": [
    "number=input(\"enter a number, and I will tell you if its even or odd:\")"
   ]
  },
  {
   "cell_type": "code",
   "execution_count": 30,
   "id": "0cc3abb0",
   "metadata": {},
   "outputs": [
    {
     "name": "stdout",
     "output_type": "stream",
     "text": [
      "\n",
      " the number7 is odd\n"
     ]
    }
   ],
   "source": [
    "number=int(number)\n",
    "if number%2==0:\n",
    "      print(f\"\\n the number{number} is even\")\n",
    "else:\n",
    "      print(f\"\\n the number{number} is odd\")   \n",
    "\n"
   ]
  },
  {
   "cell_type": "markdown",
   "id": "9d9b3152",
   "metadata": {},
   "source": []
  },
  {
   "cell_type": "raw",
   "id": "823dde79",
   "metadata": {},
   "source": []
  }
 ],
 "metadata": {
  "kernelspec": {
   "display_name": "Python 3 (ipykernel)",
   "language": "python",
   "name": "python3"
  },
  "language_info": {
   "codemirror_mode": {
    "name": "ipython",
    "version": 3
   },
   "file_extension": ".py",
   "mimetype": "text/x-python",
   "name": "python",
   "nbconvert_exporter": "python",
   "pygments_lexer": "ipython3",
   "version": "3.9.7"
  }
 },
 "nbformat": 4,
 "nbformat_minor": 5
}
